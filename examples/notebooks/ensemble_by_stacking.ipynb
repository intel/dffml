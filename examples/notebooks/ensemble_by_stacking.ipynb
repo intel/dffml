{
 "cells": [
  {
   "cell_type": "markdown",
   "source": [
    "# Ensemble by stacking\n",
    "\n",
    "In this demo, we'll be using the Red Wine Quality dataset. The dataset can be used with both regression and classification models. \n",
    "\n",
    "The purpose of this notebook is to build different models and use stacking, an ensemble learning technique, using the DFFML API."
   ],
   "metadata": {}
  },
  {
   "cell_type": "markdown",
   "source": [
    "## Import Packages\n",
    "\n",
    "Let us import dffml and other packages that we might need."
   ],
   "metadata": {}
  },
  {
   "cell_type": "code",
   "execution_count": 1,
   "source": [
    "from dffml import *\n",
    "import asyncio\n",
    "import nest_asyncio"
   ],
   "outputs": [],
   "metadata": {}
  },
  {
   "cell_type": "markdown",
   "source": [
    "To use asyncio in a notebook, we need to use nest_asycio.apply()"
   ],
   "metadata": {}
  },
  {
   "cell_type": "code",
   "execution_count": 2,
   "source": [
    "nest_asyncio.apply()"
   ],
   "outputs": [],
   "metadata": {}
  },
  {
   "cell_type": "markdown",
   "source": [
    "## Build our Dataset\n",
    "\n",
    "util.Dffml has a very convinient function [cached_download()](../../api/util/net.rst#dffml.util.net.cached_download) that can be used to download datasets and make sure you don't download them if you have already.\n",
    "\n",
    "\n",
    "The cached_download() has the following parameters:\n",
    "\n",
    "\n",
    "\n",
    "1. `url` (str) – The URL to download\n",
    "\n",
    "2. `target_path` (str, pathlib.Path) – Path on disk to store download\n",
    "\n",
    "3. `expected_hash` (str) – SHA384 hash of the contents\n",
    "\n",
    "4. `protocol_allowlist` (list, optional) – List of strings, one of which the URL must start with. \n",
    "   We won't be using this in our case.\n",
    "          \n",
    "Don't forget to calculate the `expected_hash`, you can find out how at [cached_download()](../../api/util/net.rst#dffml.util.net.cached_download)!"
   ],
   "metadata": {}
  },
  {
   "cell_type": "code",
   "execution_count": 3,
   "source": [
    "data_path = await cached_download(\n",
    "    \"https://archive.ics.uci.edu/ml/machine-learning-databases/wine-quality/winequality-red.csv\",\n",
    "    \"wine_quality.csv\",\n",
    "    \"789e98688f9ff18d4bae35afb71b006116ec9c529c1b21563fdaf5e785aea8b3937a55a4919c91ca2b0acb671300072c\",\n",
    ")"
   ],
   "outputs": [],
   "metadata": {}
  },
  {
   "cell_type": "markdown",
   "source": [
    "In Dffml, we try to use asynchronicity where we can, to get that extra bit of performance. Let's use the async version of load() to load the dataset that we just downloaded into a source. We can easily achieve this by declaring a [CSVSource](../../api/source/csv.rst) with the `data_path` and the `delimiter` value since the data we downloaded seems to have a non-comma delimiter.\n",
    "\n",
    "After that, we can just create an array of records by loading each one through the load() function.\n",
    "\n",
    "Feel free to also try out the no async version of load().\n"
   ],
   "metadata": {}
  },
  {
   "cell_type": "code",
   "execution_count": 4,
   "source": [
    "async def load_dataset(data_path):\n",
    "    data_source = CSVSource(filename=data_path, delimiter=\";\")\n",
    "    data = [record async for record in load(data_source)]\n",
    "    return data\n",
    "\n",
    "\n",
    "data = asyncio.run(load_dataset(data_path))"
   ],
   "outputs": [],
   "metadata": {}
  },
  {
   "cell_type": "markdown",
   "source": [
    "Dffml lets you visualize a record in quite a neat fashion. Lets have a look."
   ],
   "metadata": {}
  },
  {
   "cell_type": "code",
   "execution_count": 5,
   "source": [
    "print(data[0], \"\\n\")\n",
    "print(len(data))"
   ],
   "outputs": [
    {
     "output_type": "stream",
     "name": "stdout",
     "text": [
      "\n",
      "\tKey:\t0\n",
      "                           Record Features\n",
      "+----------------------------------------------------------------------+\n",
      "|  fixed acidity  |                        7.4                         |\n",
      "+----------------------------------------------------------------------+\n",
      "| volatile acidity|                        0.7                         |\n",
      "+----------------------------------------------------------------------+\n",
      "|   citric acid   |                         0                          |\n",
      "+----------------------------------------------------------------------+\n",
      "|  residual sugar |                        1.9                         |\n",
      "+----------------------------------------------------------------------+\n",
      "|    chlorides    |                       0.076                        |\n",
      "+----------------------------------------------------------------------+\n",
      "|free sulfur dioxi|                         11                         |\n",
      "+----------------------------------------------------------------------+\n",
      "|total sulfur diox|                         34                         |\n",
      "+----------------------------------------------------------------------+\n",
      "|     density     |                       0.9978                       |\n",
      "+----------------------------------------------------------------------+\n",
      "|        pH       |                        3.51                        |\n",
      "+----------------------------------------------------------------------+\n",
      "|    sulphates    |                        0.56                        |\n",
      "+----------------------------------------------------------------------+\n",
      "|     alcohol     |                        9.4                         |\n",
      "+----------------------------------------------------------------------+\n",
      "|     quality     |                         5                          |\n",
      "+----------------------------------------------------------------------+\n",
      "                                           Prediction:    Undetermined \n",
      "\n",
      "1599\n"
     ]
    }
   ],
   "metadata": {}
  },
  {
   "cell_type": "markdown",
   "source": [
    "## Split our data\n",
    "Lets split our dataset into train, validation and test splits with a ratio of 60:20:20."
   ],
   "metadata": {}
  },
  {
   "cell_type": "code",
   "execution_count": 6,
   "source": [
    "data_60pct = int(len(data) * 60 / 100)\n",
    "data_20pct = int(len(data) * 20 / 100)\n",
    "print(data_60pct, data_20pct)"
   ],
   "outputs": [
    {
     "output_type": "stream",
     "name": "stdout",
     "text": [
      "959 319\n"
     ]
    }
   ],
   "metadata": {}
  },
  {
   "cell_type": "code",
   "execution_count": 7,
   "source": [
    "train_data = data[:data_60pct]\n",
    "validation_data = data[data_60pct : data_60pct + data_20pct]\n",
    "test_data = data[data_60pct + data_20pct :]\n",
    "print(len(data), len(train_data), len(validation_data), len(test_data))"
   ],
   "outputs": [
    {
     "output_type": "stream",
     "name": "stdout",
     "text": [
      "1599 959 319 321\n"
     ]
    }
   ],
   "metadata": {}
  },
  {
   "cell_type": "markdown",
   "source": [
    "#### Let the Ensemble begin!\n",
    "\n",
    "As mentioned before, we'll be using the `stacking` technique to ensemble our models.\n",
    "\n",
    "The following are the steps to ensemble by `stacking`:\n",
    "\n",
    "1. **Train First-Level Base Models** on train data. \n",
    "\n",
    "2. **Use the First-Level Base Models to get predictions on Validation data and Test data.** We will simply use the high-level `predict()` function to get the predictions and store these predictions in lists.\n",
    "\n",
    "3. **Stack all the Validation predictions together, and stack Test predictions together.** After this, we will have 2 lists consisting of stacked validation predictions and stacked test predictions.\n",
    "\n",
    "4. **Build and Train Level-2 Meta-Model.** The stacked valid predictions will serve as features to train our level-2 meta-model.\n",
    "\n",
    "5. **Now our ensembled model is ready to predict.** We can go ahead and predict on stacked test predictions to get our final predictions."
   ],
   "metadata": {}
  },
  {
   "cell_type": "markdown",
   "source": [
    "#### 1. Training First-Level Base Models on train data.\n",
    "\n",
    "For the sake of this demo and to make things simpler, we will be using 2 models. It is generally prefered to use diverse models so that the meta model can provide superior predictions. Since our data can be used for the classification and regression tasks, we'll use both to make an ensemble model and see how it performs.\n",
    "\n",
    "**Instantiate our Models with parameters.**\n",
    "\n",
    "Dffml makes it quite easy to load multiple models dynamically using the `Model.load()` function. All the entrypoints for models available in DFFML can be found at the [Model Plugins Page](../../plugins/dffml_model.rst). After that, you just have to parameterize the loaded models and they are ready to train interchangably!"
   ],
   "metadata": {}
  },
  {
   "cell_type": "code",
   "execution_count": 8,
   "source": [
    "Model1 = Model.load(\"scikitgnb\")\n",
    "Model2 = Model.load(\"scikitridge\")\n",
    "\n",
    "features = Features(\n",
    "    Feature(\"fixed acidity\", int, 1),\n",
    "    Feature(\"volatile acidity\", int, 1),\n",
    "    Feature(\"citric acid\", int, 1),\n",
    "    Feature(\"residual sugar\", int, 1),\n",
    "    Feature(\"chlorides\", int, 1),\n",
    "    Feature(\"free sulfur dioxide\", int, 1),\n",
    "    Feature(\"total sulfur dioxide\", int, 1),\n",
    "    Feature(\"density\", int, 1),\n",
    "    Feature(\"pH\", int, 1),\n",
    "    Feature(\"sulphates\", int, 1),\n",
    "    Feature(\"alcohol\", int, 1),\n",
    ")\n",
    "predict_feature = Feature(\"quality\", int, 1)\n",
    "model1 = Model1(\n",
    "    features=features, predict=predict_feature, location=\"model1\",\n",
    ")\n",
    "model2 = Model2(\n",
    "    features=features, predict=predict_feature, location=\"model2\",\n",
    ")"
   ],
   "outputs": [],
   "metadata": {}
  },
  {
   "cell_type": "markdown",
   "source": [
    "**Train our Models**\n",
    "\n",
    "Our models are ready to be trained using the `train()` function from the high-level API. Let's make sure to pass each record as a parameter by simply using the unpacking operator(*)."
   ],
   "metadata": {}
  },
  {
   "cell_type": "code",
   "execution_count": 9,
   "source": [
    "await train(model1, *train_data)\n",
    "await train(model2, *train_data)"
   ],
   "outputs": [],
   "metadata": {}
  },
  {
   "cell_type": "markdown",
   "source": [
    "**Test our Models**\n",
    "\n",
    "Let's see how well these models do on our test data.\n",
    "\n",
    "To test our model, we'll use the `accuracy()` function in the `high-level` API.\n",
    "\n",
    "We ask for the accuracy to be assessed using the classification accuracy by passing \"clf\" to `AccuracyScorer.load()`."
   ],
   "metadata": {}
  },
  {
   "cell_type": "code",
   "execution_count": 10,
   "source": [
    "ClassificationAccuracy = AccuracyScorer.load(\"clf\")\n",
    "\n",
    "scorer = ClassificationAccuracy()\n",
    "\n",
    "Accuracy1 = await score(model1, scorer, predict_feature, *test_data)\n",
    "print(\"Accuracy of Model1:\", Accuracy1)\n",
    "Accuracy2 = await score(model2, scorer, predict_feature, *test_data)\n",
    "print(\"Accuracy of Model2:\", Accuracy2)\n",
    "Accuracy = [Accuracy1, Accuracy2]"
   ],
   "outputs": [
    {
     "output_type": "stream",
     "name": "stdout",
     "text": [
      "Accuracy of Model1: 0.5451713395638629\n",
      "Accuracy of Model2: 0.4735202492211838\n"
     ]
    }
   ],
   "metadata": {}
  },
  {
   "cell_type": "markdown",
   "source": [
    "**Visualize the Accuracies**"
   ],
   "metadata": {}
  },
  {
   "cell_type": "code",
   "execution_count": 11,
   "source": [
    "import matplotlib.pyplot as plt\n",
    "\n",
    "fig = plt.figure()\n",
    "ax = fig.add_axes([0, 0, 1, 1])\n",
    "ax.bar([\"Model1\", \"Model2\"], Accuracy)\n",
    "for i, v in enumerate([Accuracy1, Accuracy2]):\n",
    "    ax.text(i - 0.1, v - 0.1, str(round(v, 2)), fontweight=\"bold\")"
   ],
   "outputs": [
    {
     "output_type": "display_data",
     "data": {
      "image/png": "[encoded data removed]",
      "text/plain": [
       "<Figure size 432x288 with 1 Axes>"
      ]
     },
     "metadata": {
      "needs_background": "light"
     }
    }
   ],
   "metadata": {}
  },
  {
   "cell_type": "markdown",
   "source": [
    "As expected, the classification model (`Model1`) performs way better than the regression model (`Model2`) on our data. What would happen if we ensemble these 2 models together? Will the emsemble be able to learn from our Classifier and Regressor and perform better overall? Let's find out!"
   ],
   "metadata": {}
  },
  {
   "cell_type": "markdown",
   "source": [
    "### 2. First-Level Base Model predictions on Validation data and Test data.\n",
    "\n",
    "Here, we will be using our models to predict on both the validation data and the test data, and save these predictions in lists.\n",
    "We will simply use the high-level `predict()` function to get the predictions and store these predictions in a list.\n",
    "\n",
    "**Model1 Predictions**"
   ],
   "metadata": {}
  },
  {
   "cell_type": "code",
   "execution_count": 12,
   "source": [
    "validation_prediction_1 = []\n",
    "async for i, features, prediction in predict(model1, *validation_data):\n",
    "    validation_prediction_1.append(prediction[\"quality\"][\"value\"])\n",
    "print(\"First 5 Validation Predictions: \", validation_prediction_1[:5])\n",
    "\n",
    "test_prediction_1 = []\n",
    "async for i, features, prediction in predict(model1, *test_data):\n",
    "    test_prediction_1.append(prediction[\"quality\"][\"value\"])\n",
    "print(\"First 5 Test Predictions: \", test_prediction_1[:5])"
   ],
   "outputs": [
    {
     "output_type": "stream",
     "name": "stdout",
     "text": [
      "First 5 Validation Predictions:  [5, 6, 5, 5, 7]\n",
      "First 5 Test Predictions:  [5, 7, 5, 5, 6]\n"
     ]
    }
   ],
   "metadata": {}
  },
  {
   "cell_type": "markdown",
   "source": [
    "**Model2 Predictions**"
   ],
   "metadata": {}
  },
  {
   "cell_type": "code",
   "execution_count": 13,
   "source": [
    "validation_prediction_2 = []\n",
    "async for i, features, prediction in predict(model2, *validation_data):\n",
    "    validation_prediction_2.append(prediction[\"quality\"][\"value\"])\n",
    "print(\"First 5 Validation Predictions: \", validation_prediction_2[:5])\n",
    "\n",
    "test_prediction_2 = []\n",
    "async for i, features, prediction in predict(model2, *test_data):\n",
    "    test_prediction_2.append(prediction[\"quality\"][\"value\"])\n",
    "print(\"First 5 Test Predictions: \", test_prediction_2[:5])"
   ],
   "outputs": [
    {
     "output_type": "stream",
     "name": "stdout",
     "text": [
      "First 5 Validation Predictions:  [5, 6, 5, 5, 6]\n",
      "First 5 Test Predictions:  [4, 6, 5, 5, 5]\n"
     ]
    }
   ],
   "metadata": {}
  },
  {
   "cell_type": "markdown",
   "source": [
    "### 3. Stack Predictions. \n",
    "\n",
    "Now, we will stack all the validation predictions together into a list of dictionaries, and test predictions into another list of dictionaries. After this, we will have 2 lists consisting of stacked validation predictions and stacked test predictions."
   ],
   "metadata": {}
  },
  {
   "cell_type": "code",
   "execution_count": 14,
   "source": [
    "validation_data[0].features()"
   ],
   "outputs": [
    {
     "output_type": "execute_result",
     "data": {
      "text/plain": [
       "{'fixed acidity': 8,\n",
       " 'volatile acidity': 0.59,\n",
       " 'citric acid': 0.05,\n",
       " 'residual sugar': 2,\n",
       " 'chlorides': 0.089,\n",
       " 'free sulfur dioxide': 12,\n",
       " 'total sulfur dioxide': 32,\n",
       " 'density': 0.99735,\n",
       " 'pH': 3.36,\n",
       " 'sulphates': 0.61,\n",
       " 'alcohol': 10,\n",
       " 'quality': 5}"
      ]
     },
     "metadata": {},
     "execution_count": 14
    }
   ],
   "metadata": {}
  },
  {
   "cell_type": "markdown",
   "source": [
    "We can use the ground truth values saved in our records as the feature `\"quality\"`, to stack with the predictions as our `'y'` variable.\n",
    "\n",
    "**Stacked Validation Predictions**"
   ],
   "metadata": {}
  },
  {
   "cell_type": "code",
   "execution_count": 15,
   "source": [
    "stacked_validation_predictions = []\n",
    "for n_record in range(len(validation_data)):\n",
    "    stacked_validation_predictions.append(\n",
    "        {\n",
    "            \"x1\": validation_prediction_1[n_record],\n",
    "            \"x2\": validation_prediction_2[n_record],\n",
    "            \"y\": validation_data[n_record].feature(\"quality\"),\n",
    "        }\n",
    "    )\n",
    "stacked_validation_predictions[0:5]"
   ],
   "outputs": [
    {
     "output_type": "execute_result",
     "data": {
      "text/plain": [
       "[{'x1': 5, 'x2': 5, 'y': 5},\n",
       " {'x1': 6, 'x2': 6, 'y': 6},\n",
       " {'x1': 5, 'x2': 5, 'y': 5},\n",
       " {'x1': 5, 'x2': 5, 'y': 5},\n",
       " {'x1': 7, 'x2': 6, 'y': 6}]"
      ]
     },
     "metadata": {},
     "execution_count": 15
    }
   ],
   "metadata": {}
  },
  {
   "cell_type": "markdown",
   "source": [
    "**Stacked Test Predictions**"
   ],
   "metadata": {}
  },
  {
   "cell_type": "code",
   "execution_count": 16,
   "source": [
    "stacked_test_predictions = []\n",
    "for n_record in range(len(test_data)):\n",
    "    stacked_test_predictions.append(\n",
    "        {\n",
    "            \"x1\": test_prediction_1[n_record],\n",
    "            \"x2\": test_prediction_2[n_record],\n",
    "            \"y\": test_data[n_record].feature(\"quality\"),\n",
    "        }\n",
    "    )\n",
    "stacked_test_predictions[0:5]"
   ],
   "outputs": [
    {
     "output_type": "execute_result",
     "data": {
      "text/plain": [
       "[{'x1': 5, 'x2': 4, 'y': 6},\n",
       " {'x1': 7, 'x2': 6, 'y': 7},\n",
       " {'x1': 5, 'x2': 5, 'y': 6},\n",
       " {'x1': 5, 'x2': 5, 'y': 6},\n",
       " {'x1': 6, 'x2': 5, 'y': 6}]"
      ]
     },
     "metadata": {},
     "execution_count": 16
    }
   ],
   "metadata": {}
  },
  {
   "cell_type": "markdown",
   "source": [
    "### 4. Build and Train Level-2 Meta-Model. \n",
    "\n",
    "The stacked validation predictions will serve as features to our level-2 meta-model. Classifiers clearly outperform regressors on the data we are using, so let's also use a classifier for our meta model. For this demo, we will use the Scikit SVC model available in DFFML by the entrypoint `\"scikitsvc\"`. \n",
    "\n",
    "**Build and train the meta-model**"
   ],
   "metadata": {}
  },
  {
   "cell_type": "code",
   "execution_count": 17,
   "source": [
    "metaModel = Model.load(\"scikitsvc\")\n",
    "\n",
    "features = Features(Feature(\"x1\", int, 1), Feature(\"x2\", int, 1),)\n",
    "predict_feature = Feature(\"y\", int, 1)\n",
    "\n",
    "metaModel = metaModel(\n",
    "    features=features, predict= predict_feature, location=\"metaModel\",\n",
    ")\n",
    "await train(metaModel, *stacked_validation_predictions)"
   ],
   "outputs": [],
   "metadata": {}
  },
  {
   "cell_type": "code",
   "execution_count": 18,
   "source": [
    "EnsembleAcc = await score(metaModel, scorer, predict_feature, *stacked_test_predictions)\n",
    "Accuracy = [Accuracy1, Accuracy2, EnsembleAcc]\n",
    "print(\"Accuracy of Ensemble Model:\", EnsembleAcc)"
   ],
   "outputs": [
    {
     "output_type": "stream",
     "name": "stdout",
     "text": [
      "Accuracy of Ensemble Model: 0.5763239875389408\n"
     ]
    }
   ],
   "metadata": {}
  },
  {
   "cell_type": "code",
   "execution_count": 19,
   "source": [
    "Accuracy = [Accuracy1, Accuracy2, EnsembleAcc]\n",
    "fig = plt.figure()\n",
    "ax = fig.add_axes([0, 0, 1, 1])\n",
    "ax.bar([\"Model1\", \"Model2\", \"Ensemble Model\"], Accuracy)\n",
    "for i, v in enumerate(Accuracy):\n",
    "    ax.text(i - 0.1, v - 0.1, str(round(v, 2)), fontweight=\"bold\")"
   ],
   "outputs": [
    {
     "output_type": "display_data",
     "data": {
      "image/png": "[encoded data removed]",
      "text/plain": [
       "<Figure size 432x288 with 1 Axes>"
      ]
     },
     "metadata": {
      "needs_background": "light"
     }
    }
   ],
   "metadata": {}
  },
  {
   "cell_type": "markdown",
   "source": [
    "Our experiment was a success! It turns out the Ensemble model was after all able to learn somthing from not only the classifier but the regressor as well, and performed better than both.\n",
    "Feel free to download the notebook and tune the models to get even better accuracies."
   ],
   "metadata": {}
  },
  {
   "cell_type": "markdown",
   "source": [
    "### 5. Final Prediction\n",
    "\n",
    "Now our ensembled model is ready to perform the final predictions. We can simply go ahead and predict on stacked test predictions to get the final predcitions."
   ],
   "metadata": {}
  },
  {
   "cell_type": "code",
   "execution_count": 20,
   "source": [
    "final_predictions = []\n",
    "async for i, features, prediction in predict(metaModel, *stacked_test_predictions):\n",
    "    final_predictions.append(prediction[\"y\"][\"value\"])\n",
    "print(\"First 5 Final Predictions: \", test_prediction_2[:5])"
   ],
   "outputs": [
    {
     "output_type": "stream",
     "name": "stdout",
     "text": [
      "First 5 Final Predictions:  [4, 6, 5, 5, 5]\n"
     ]
    }
   ],
   "metadata": {}
  }
 ],
 "metadata": {
  "kernelspec": {
   "display_name": "Python 3 (ipykernel)",
   "language": "python",
   "name": "python3"
  },
  "language_info": {
   "codemirror_mode": {
    "name": "ipython",
    "version": 3
   },
   "file_extension": ".py",
   "mimetype": "text/x-python",
   "name": "python",
   "nbconvert_exporter": "python",
   "pygments_lexer": "ipython3",
   "version": "3.8.10"
  }
 },
 "nbformat": 4,
 "nbformat_minor": 4
}