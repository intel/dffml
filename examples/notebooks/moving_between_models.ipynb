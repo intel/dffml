{
 "cells": [
  {
   "cell_type": "markdown",
   "source": [
    "# Moving Between Models\n",
    "\n",
    "In this demo, we'll be using the Red Wine Quality dataset. The datset can be used in both regression and classification models. The purpose of this notebook is to show how to work with multiple models in DFFML."
   ],
   "metadata": {}
  },
  {
   "cell_type": "markdown",
   "source": [
    "### Import Packages\n",
    "\n",
    "Let us import dffml and other packages that we might need."
   ],
   "metadata": {}
  },
  {
   "cell_type": "code",
   "execution_count": 1,
   "source": [
    "from dffml import *"
   ],
   "outputs": [],
   "metadata": {}
  },
  {
   "cell_type": "code",
   "execution_count": 2,
   "source": [
    "import asyncio\n",
    "import nest_asyncio"
   ],
   "outputs": [],
   "metadata": {}
  },
  {
   "cell_type": "markdown",
   "source": [
    "To use asyncio in a notebook, we need to use nest_asycio.apply()"
   ],
   "metadata": {}
  },
  {
   "cell_type": "code",
   "execution_count": 3,
   "source": [
    "nest_asyncio.apply()"
   ],
   "outputs": [],
   "metadata": {}
  },
  {
   "cell_type": "markdown",
   "source": [
    "### Build our Dataset\n",
    "\n",
    "Dffml has a very convinient function `cached_download()` that can be used to download datasets and make sure you don't download them if you have already."
   ],
   "metadata": {}
  },
  {
   "cell_type": "code",
   "execution_count": 4,
   "source": [
    "data_path = await cached_download(\n",
    "    \"https://archive.ics.uci.edu/ml/machine-learning-databases/wine-quality/winequality-red.csv\",\n",
    "    \"wine_quality.csv\",\n",
    "    \"789e98688f9ff18d4bae35afb71b006116ec9c529c1b21563fdaf5e785aea8b3937a55a4919c91ca2b0acb671300072c\",\n",
    ")"
   ],
   "outputs": [],
   "metadata": {}
  },
  {
   "cell_type": "markdown",
   "source": [
    "In Dffml, we try to use asynchronicity where we can, to get that extra bit of performance. Let's use the async version of `load()` to load the dataset that we just downloaded into a source. We can easily achieve this by declaring a `CSVSource` with the data_path and the delimiter since the data we downloaded seems to have a non-comma delimiter. \n",
    "\n",
    "After that, we can just create an array of `records` by loading each one through the `load()` function.\n",
    "\n",
    "Feel free to also try out the no async version of `load()`."
   ],
   "metadata": {}
  },
  {
   "cell_type": "code",
   "execution_count": 5,
   "source": [
    "async def load_dataset(data_path):\n",
    "    data_source = CSVSource(filename=data_path, delimiter=\";\")\n",
    "    data = [record async for record in load(data_source)]\n",
    "    return data\n",
    "\n",
    "\n",
    "data = asyncio.run(load_dataset(data_path))"
   ],
   "outputs": [],
   "metadata": {}
  },
  {
   "cell_type": "markdown",
   "source": [
    "Dffml lets you visualize a record in quite a neat fashion. Lets have a look."
   ],
   "metadata": {}
  },
  {
   "cell_type": "code",
   "execution_count": 6,
   "source": [
    "print(data[0], \"\\n\")\n",
    "print(len(data))"
   ],
   "outputs": [
    {
     "output_type": "stream",
     "name": "stdout",
     "text": [
      "\n",
      "\tKey:\t0\n",
      "                      Record Features\n",
      "+------------------------------------------------------------+\n",
      "| fixed acidity |                    7.4                     |\n",
      "+------------------------------------------------------------+\n",
      "|volatile acidit|                    0.7                     |\n",
      "+------------------------------------------------------------+\n",
      "|  citric acid  |                     0                      |\n",
      "+------------------------------------------------------------+\n",
      "| residual sugar|                    1.9                     |\n",
      "+------------------------------------------------------------+\n",
      "|   chlorides   |                   0.076                    |\n",
      "+------------------------------------------------------------+\n",
      "|free sulfur dio|                     11                     |\n",
      "+------------------------------------------------------------+\n",
      "|total sulfur di|                     34                     |\n",
      "+------------------------------------------------------------+\n",
      "|    density    |                   0.9978                   |\n",
      "+------------------------------------------------------------+\n",
      "|       pH      |                    3.51                    |\n",
      "+------------------------------------------------------------+\n",
      "|   sulphates   |                    0.56                    |\n",
      "+------------------------------------------------------------+\n",
      "|    alcohol    |                    9.4                     |\n",
      "+------------------------------------------------------------+\n",
      "|    quality    |                     5                      |\n",
      "+------------------------------------------------------------+\n",
      "                                 Prediction:    Undetermined \n",
      "\n",
      "1599\n"
     ]
    }
   ],
   "metadata": {}
  },
  {
   "cell_type": "markdown",
   "source": [
    "Lets split our dataset into train and test splits."
   ],
   "metadata": {}
  },
  {
   "cell_type": "code",
   "execution_count": 7,
   "source": [
    "train_data = data[320:]\n",
    "test_data = data[:320]\n",
    "print(len(data), len(train_data), len(test_data))"
   ],
   "outputs": [
    {
     "output_type": "stream",
     "name": "stdout",
     "text": [
      "1599 1279 320\n"
     ]
    }
   ],
   "metadata": {}
  },
  {
   "cell_type": "markdown",
   "source": [
    "### Instantiate our Models with parameters\n",
    "Dffml makes it quite easy to load multiple models dynamically using the `Model.load()` function. After that, you just have to parameterize the loaded models and they are ready to train interchangably!\n",
    "\n",
    "For this example, we'll be demonstrating 2 models but you can feel free to try more than 2 models in a similar fashion."
   ],
   "metadata": {}
  },
  {
   "cell_type": "code",
   "execution_count": null,
   "source": [
    "ScikitLORModel = Model.load(\"scikitlor\")\n",
    "ScikitETCModel = Model.load(\"scikitetc\")\n",
    "\n",
    "features = Features(\n",
    "    Feature(\"fixed acidity\", int, 1),\n",
    "    Feature(\"volatile acidity\", int, 1),\n",
    "    Feature(\"citric acid\", int, 1),\n",
    "    Feature(\"residual sugar\", int, 1),\n",
    "    Feature(\"chlorides\", int, 1),\n",
    "    Feature(\"free sulfur dioxide\", int, 1),\n",
    "    Feature(\"total sulfur dioxide\", int, 1),\n",
    "    Feature(\"density\", int, 1),\n",
    "    Feature(\"pH\", int, 1),\n",
    "    Feature(\"sulphates\", int, 1),\n",
    "    Feature(\"alcohol\", int, 1),\n",
    ")\n",
    "\n",
    "model1 = ScikitLORModel(\n",
    "    features=features,\n",
    "    predict=Feature(\"quality\", int, 1),\n",
    "    location=\"scikitlor\",\n",
    "    max_iter=150,\n",
    ")\n",
    "model2 = ScikitETCModel(\n",
    "    features=features,\n",
    "    predict=Feature(\"quality\", int, 1),\n",
    "    location=\"scikitetc\",\n",
    "    n_estimators=150,\n",
    ")"
   ],
   "outputs": [],
   "metadata": {}
  },
  {
   "cell_type": "markdown",
   "source": [
    "### Train our Models\n",
    "Finally, our models are ready to be trained using the `high-level` API. Let's make sure to pass each record as a parameter by simply using the unpacking operator(*)."
   ],
   "metadata": {}
  },
  {
   "cell_type": "code",
   "execution_count": null,
   "source": [
    "await train(model1, *train_data)\n",
    "await train(model2, *train_data)"
   ],
   "outputs": [],
   "metadata": {}
  },
  {
   "cell_type": "markdown",
   "source": [
    "### Test our Models\n",
    "To test our model, we'll use the `accuracy()` function in the `high-level` API."
   ],
   "metadata": {}
  },
  {
   "cell_type": "code",
   "execution_count": 10,
   "source": [
    "print(\"Accuracy1:\", await accuracy(model1, *test_data))\n",
    "print(\"Accuracy2:\", await accuracy(model2, *test_data))"
   ],
   "outputs": [
    {
     "output_type": "stream",
     "name": "stdout",
     "text": [
      "Accuracy1: 0.590625\n",
      "Accuracy2: 0.6\n"
     ]
    }
   ],
   "metadata": {}
  },
  {
   "cell_type": "markdown",
   "source": [
    "### Predict using our Models\n",
    "Let's make predictions and see what they look like for each model using the `predict` function in the `high-level` API.\n",
    "\n",
    "Note that the `predict` function returns an asynciterator of a `Record` Object that contains a tuple of record.key, features and predictions.\n",
    "\n",
    "For the sake of visualizing data, we'll keep the predictions to a few records."
   ],
   "metadata": {}
  },
  {
   "cell_type": "code",
   "execution_count": 11,
   "source": [
    "# Modified Test_data\n",
    "m_test_data = test_data[:5]\n",
    "# Predict and view Predictions for model 1\n",
    "async for i, features, prediction in predict(model1, *m_test_data):\n",
    "    features[\"quality\"] = prediction[\"quality\"]\n",
    "    print(features[\"quality\"])"
   ],
   "outputs": [
    {
     "output_type": "stream",
     "name": "stdout",
     "text": [
      "{'confidence': 0.590625, 'value': 5}\n",
      "{'confidence': 0.590625, 'value': 5}\n",
      "{'confidence': 0.590625, 'value': 5}\n",
      "{'confidence': 0.590625, 'value': 5}\n",
      "{'confidence': 0.590625, 'value': 5}\n"
     ]
    }
   ],
   "metadata": {}
  },
  {
   "cell_type": "code",
   "execution_count": 12,
   "source": [
    "# Predict and view Predictions for model 2\n",
    "async for i, features, prediction in predict(model2, *m_test_data):\n",
    "    features[\"quality\"] = prediction[\"quality\"]\n",
    "    print(features[\"quality\"])"
   ],
   "outputs": [
    {
     "output_type": "stream",
     "name": "stdout",
     "text": [
      "{'confidence': 0.6, 'value': 5}\n",
      "{'confidence': 0.6, 'value': 5}\n",
      "{'confidence': 0.6, 'value': 5}\n",
      "{'confidence': 0.6, 'value': 6}\n",
      "{'confidence': 0.6, 'value': 5}\n"
     ]
    }
   ],
   "metadata": {}
  }
 ],
 "metadata": {
  "celltoolbar": "Tags",
  "kernelspec": {
   "display_name": "Python 3",
   "language": "python",
   "name": "python3"
  },
  "language_info": {
   "codemirror_mode": {
    "name": "ipython",
    "version": 3
   },
   "file_extension": ".py",
   "mimetype": "text/x-python",
   "name": "python",
   "nbconvert_exporter": "python",
   "pygments_lexer": "ipython3",
   "version": "3.7.10"
  }
 },
 "nbformat": 4,
 "nbformat_minor": 4
}