{
 "cells": [
  {
   "cell_type": "markdown",
   "metadata": {},
   "source": [
    "# Evaluating Model Performance\n",
    "\n",
    "In this demo, we'll be using the Red Wine Quality dataset. The datset can be used in both regression and classification models. The purpose of this notebook is to build different models, classifiers and regressors, and compare their performance to see which one performs the best on our data."
   ]
  },
  {
   "cell_type": "markdown",
   "metadata": {},
   "source": [
    "### Import Packages\n",
    "\n",
    "Let us import dffml and other packages that we might need."
   ]
  },
  {
   "cell_type": "code",
   "execution_count": 1,
   "metadata": {},
   "outputs": [],
   "source": [
    "from dffml import *\n",
    "import asyncio\n",
    "import nest_asyncio"
   ]
  },
  {
   "cell_type": "markdown",
   "metadata": {},
   "source": [
    "To use asyncio in a notebook, we need to use nest_asycio.apply()"
   ]
  },
  {
   "cell_type": "code",
   "execution_count": 2,
   "metadata": {},
   "outputs": [],
   "source": [
    "nest_asyncio.apply()"
   ]
  },
  {
   "cell_type": "markdown",
   "metadata": {},
   "source": [
    "### Build our Dataset\n",
    "\n",
    "Dffml has a very convinient function `cached_download()` that can be used to download datasets and make sure you don't download them if you have already."
   ]
  },
  {
   "cell_type": "code",
   "execution_count": 3,
   "metadata": {},
   "outputs": [],
   "source": [
    "data_path = await cached_download(\n",
    "    \"https://archive.ics.uci.edu/ml/machine-learning-databases/wine-quality/winequality-red.csv\",\n",
    "    \"wine_quality.csv\",\n",
    "    \"789e98688f9ff18d4bae35afb71b006116ec9c529c1b21563fdaf5e785aea8b3937a55a4919c91ca2b0acb671300072c\",\n",
    ")"
   ]
  },
  {
   "cell_type": "markdown",
   "metadata": {},
   "source": [
    "In Dffml, we try to use asynchronicity where we can, to get that extra bit of performance. Let's use the async version of load() to load the dataset that we just downloaded into a source. We can easily achieve this by declaring a CSVSource with the data_path and the delimiter since the data we downloaded seems to have a non-comma delimiter.\n",
    "\n",
    "After that, we can just create an array of records by loading each one through the load() function.\n",
    "\n",
    "Feel free to also try out the no async version of load().\n"
   ]
  },
  {
   "cell_type": "code",
   "execution_count": 4,
   "metadata": {},
   "outputs": [],
   "source": [
    "async def load_dataset(data_path):\n",
    "    data_source = CSVSource(filename=data_path, delimiter=\";\")\n",
    "    data = [record async for record in load(data_source)]\n",
    "    return data\n",
    "\n",
    "\n",
    "data = asyncio.run(load_dataset(data_path))"
   ]
  },
  {
   "cell_type": "markdown",
   "metadata": {},
   "source": [
    "Dffml lets you visualize a record in quite a neat fashion. Lets have a look."
   ]
  },
  {
   "cell_type": "code",
   "execution_count": 5,
   "metadata": {},
   "outputs": [
    {
     "name": "stdout",
     "output_type": "stream",
     "text": [
      "\n",
      "\tKey:\t0\n",
      "                           Record Features\n",
      "+----------------------------------------------------------------------+\n",
      "|  fixed acidity  |                        7.4                         |\n",
      "+----------------------------------------------------------------------+\n",
      "| volatile acidity|                        0.7                         |\n",
      "+----------------------------------------------------------------------+\n",
      "|   citric acid   |                         0                          |\n",
      "+----------------------------------------------------------------------+\n",
      "|  residual sugar |                        1.9                         |\n",
      "+----------------------------------------------------------------------+\n",
      "|    chlorides    |                       0.076                        |\n",
      "+----------------------------------------------------------------------+\n",
      "|free sulfur dioxi|                         11                         |\n",
      "+----------------------------------------------------------------------+\n",
      "|total sulfur diox|                         34                         |\n",
      "+----------------------------------------------------------------------+\n",
      "|     density     |                       0.9978                       |\n",
      "+----------------------------------------------------------------------+\n",
      "|        pH       |                        3.51                        |\n",
      "+----------------------------------------------------------------------+\n",
      "|    sulphates    |                        0.56                        |\n",
      "+----------------------------------------------------------------------+\n",
      "|     alcohol     |                        9.4                         |\n",
      "+----------------------------------------------------------------------+\n",
      "|     quality     |                         5                          |\n",
      "+----------------------------------------------------------------------+\n",
      "                                           Prediction:    Undetermined \n",
      "\n",
      "1599\n"
     ]
    }
   ],
   "source": [
    "print(data[0], \"\\n\")\n",
    "print(len(data))"
   ]
  },
  {
   "cell_type": "markdown",
   "metadata": {},
   "source": [
    "Lets split our dataset into train and test splits."
   ]
  },
  {
   "cell_type": "code",
   "execution_count": 6,
   "metadata": {},
   "outputs": [
    {
     "name": "stdout",
     "output_type": "stream",
     "text": [
      "1599 1279 320\n"
     ]
    }
   ],
   "source": [
    "train_data = data[320:]\n",
    "test_data = data[:320]\n",
    "print(len(data), len(train_data), len(test_data))"
   ]
  },
  {
   "cell_type": "markdown",
   "metadata": {},
   "source": [
    "### Instantiate our Models with parameters\n",
    "Dffml makes it quite easy to load multiple models dynamically using the `Model.load()` function. After that, you just have to parameterize the loaded models and they are ready to train interchangably!\n",
    "\n",
    "For this example, we'll be demonstrating 2 basic models for classification and 2 for regression."
   ]
  },
  {
   "cell_type": "code",
   "execution_count": 7,
   "metadata": {},
   "outputs": [],
   "source": [
    "XGBCModel = Model.load(\"xgbclassifier\")\n",
    "ScikitETCModel = Model.load(\"scikitetc\")\n",
    "XGBRModel = Model.load(\"xgbregressor\")\n",
    "ScikitLRModel = Model.load(\"scikitlr\")\n",
    "\n",
    "features = Features(\n",
    "    Feature(\"fixed acidity\", int, 1),\n",
    "    Feature(\"volatile acidity\", int, 1),\n",
    "    Feature(\"citric acid\", int, 1),\n",
    "    Feature(\"residual sugar\", int, 1),\n",
    "    Feature(\"chlorides\", int, 1),\n",
    "    Feature(\"free sulfur dioxide\", int, 1),\n",
    "    Feature(\"total sulfur dioxide\", int, 1),\n",
    "    Feature(\"density\", int, 1),\n",
    "    Feature(\"pH\", int, 1),\n",
    "    Feature(\"sulphates\", int, 1),\n",
    "    Feature(\"alcohol\", int, 1),\n",
    ")\n",
    "\n",
    "model1 = XGBCModel(\n",
    "    features=features, predict=Feature(\"quality\", int, 1), location=\"xgbc\",\n",
    ")\n",
    "model2 = ScikitETCModel(\n",
    "    features=features, predict=Feature(\"quality\", int, 1), location=\"scikitetc\",\n",
    ")\n",
    "model3 = XGBRModel(\n",
    "    features=features, predict=Feature(\"quality\", int, 1), location=\"xgbr\",\n",
    ")\n",
    "model4 = ScikitLRModel(\n",
    "    features=features, predict=Feature(\"quality\", int, 1), location=\"scikitlr\",\n",
    ")"
   ]
  },
  {
   "cell_type": "markdown",
   "metadata": {},
   "source": [
    "### Train our Models\n",
    "Finally, our models are ready to be trained using the `high-level` API. Let's make sure to pass each record as a parameter by simply using the unpacking operator(*)."
   ]
  },
  {
   "cell_type": "code",
   "execution_count": 8,
   "metadata": {},
   "outputs": [],
   "source": [
    "await train(model1, *train_data)\n",
    "await train(model2, *train_data)\n",
    "await train(model3, *train_data)\n",
    "await train(model4, *train_data)"
   ]
  },
  {
   "cell_type": "markdown",
   "metadata": {},
   "source": [
    "### Test our Models\n",
    "To test our model, we'll use the `accuracy()` function in the `high-level` API.\n",
    "\n",
    "We ask for the accuracy to be assessed using the Mean Squared Error method."
   ]
  },
  {
   "cell_type": "code",
   "execution_count": 9,
   "metadata": {},
   "outputs": [
    {
     "name": "stdout",
     "output_type": "stream",
     "text": [
      "Accuracy1: 0.5\n",
      "Accuracy2: 0.49375\n",
      "Accuracy3: 0.4432109525782657\n",
      "Accuracy4: 0.734375\n"
     ]
    }
   ],
   "source": [
    "MeanSquaredErrorAccuracy = AccuracyScorer.load(\"mse\")\n",
    "\n",
    "scorer = MeanSquaredErrorAccuracy()\n",
    "\n",
    "Accuracy = await accuracy(model1, scorer, *test_data)\n",
    "print(\"Accuracy1:\", Accuracy)\n",
    "\n",
    "Accuracy2 = await accuracy(model2, scorer, *test_data)\n",
    "print(\"Accuracy2:\", Accuracy2)\n",
    "\n",
    "Accuracy3 = await accuracy(model3, scorer, *test_data)\n",
    "print(\"Accuracy3:\", Accuracy3)\n",
    "\n",
    "Accuracy4 = await accuracy(model4, scorer, *test_data)\n",
    "print(\"Accuracy4:\", Accuracy4)\n",
    "\n",
    "Accuracy = [Accuracy, Accuracy2, Accuracy3, Accuracy4]"
   ]
  },
  {
   "cell_type": "code",
   "execution_count": 10,
   "metadata": {},
   "outputs": [
    {
     "data": {
      "text/plain": [
       "<BarContainer object of 4 artists>"
      ]
     },
     "execution_count": 10,
     "metadata": {},
     "output_type": "execute_result"
    },
    {
     "data": {
      "image/png": "[encoded data removed]",
      "text/plain": [
       "<Figure size 432x288 with 1 Axes>"
      ]
     },
     "metadata": {
      "needs_background": "light"
     },
     "output_type": "display_data"
    }
   ],
   "source": [
    "import matplotlib.pyplot as plt\n",
    "\n",
    "fig = plt.figure()\n",
    "ax = fig.add_axes([0, 0, 1, 1])\n",
    "ax.bar([\"XGBC\", \"ScikitETC\", \"XGBR\", \"ScikitLR\"], Accuracy)"
   ]
  },
  {
   "cell_type": "markdown",
   "metadata": {},
   "source": [
    "From the accuracies and the above plot, it is quite obvious that the classifiers we built perform better on the Red wine quality dataset than our regressors. "
   ]
  }
 ],
 "metadata": {
  "kernelspec": {
   "display_name": "Python 3 (ipykernel)",
   "language": "python",
   "name": "python3"
  },
  "language_info": {
   "codemirror_mode": {
    "name": "ipython",
    "version": 3
   },
   "file_extension": ".py",
   "mimetype": "text/x-python",
   "name": "python",
   "nbconvert_exporter": "python",
   "pygments_lexer": "ipython3",
   "version": "3.7.6"
  }
 },
 "nbformat": 4,
 "nbformat_minor": 4
}
